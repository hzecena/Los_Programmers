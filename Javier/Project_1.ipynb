{
 "cells": [
  {
   "cell_type": "code",
   "execution_count": null,
   "metadata": {
    "scrolled": true
   },
   "outputs": [],
   "source": []
  },
  {
   "cell_type": "code",
   "execution_count": 1,
   "metadata": {},
   "outputs": [],
   "source": [
    "# Import Libraries, Census, and Keys\n",
    "import pandas as pd\n",
    "import requests\n",
    "from census import Census\n",
    "import gmaps\n",
    "import json\n",
    "from config import (api_key, gkey)\n",
    "c = Census(api_key, year=2017)\n",
    "\n",
    "# Configure gmaps (not sure why we need this)\n",
    "gmaps.configure(api_key=gkey)\n"
   ]
  },
  {
   "cell_type": "code",
   "execution_count": 2,
   "metadata": {
    "scrolled": false
   },
   "outputs": [
    {
     "ename": "NameError",
     "evalue": "name 'census_pd' is not defined",
     "output_type": "error",
     "traceback": [
      "\u001b[0;31m---------------------------------------------------------------------------\u001b[0m",
      "\u001b[0;31mNameError\u001b[0m                                 Traceback (most recent call last)",
      "\u001b[0;32m<ipython-input-2-87b3460806a5>\u001b[0m in \u001b[0;36m<module>\u001b[0;34m\u001b[0m\n\u001b[1;32m     19\u001b[0m \u001b[0;34m\u001b[0m\u001b[0m\n\u001b[1;32m     20\u001b[0m \u001b[0;31m# Rearrange DF\u001b[0m\u001b[0;34m\u001b[0m\u001b[0;34m\u001b[0m\u001b[0;34m\u001b[0m\u001b[0m\n\u001b[0;32m---> 21\u001b[0;31m census_pd = census_pd[[\"State\", \"Name\",\"Population\", \"Per Capita Income\",\n\u001b[0m\u001b[1;32m     22\u001b[0m                        \u001b[0;34m\"Per Capita Income\"\u001b[0m\u001b[0;34m,\u001b[0m \u001b[0;34m\"Total Poverty\"\u001b[0m\u001b[0;34m,\u001b[0m \u001b[0;34m\"Total Poverty\"\u001b[0m\u001b[0;34m,\u001b[0m\u001b[0;34m\u001b[0m\u001b[0;34m\u001b[0m\u001b[0m\n\u001b[1;32m     23\u001b[0m                        \u001b[0;34m\"White Poverty\"\u001b[0m\u001b[0;34m,\u001b[0m \u001b[0;34m\"Black Poverty\"\u001b[0m\u001b[0;34m,\u001b[0m \u001b[0;34m\"Asian Poverty\"\u001b[0m\u001b[0;34m,\u001b[0m\u001b[0;34m\u001b[0m\u001b[0;34m\u001b[0m\u001b[0m\n",
      "\u001b[0;31mNameError\u001b[0m: name 'census_pd' is not defined"
     ]
    }
   ],
   "source": [
    "# Search Census data, retrive relavant information by state\n",
    "census_data = c.acs5.get((\"NAME\", \"B01003_001E\", \"B19301_001E\", \n",
    "                          \"B17001_002E\",\"B17001A_002E\",\"B17001B_002E\",\n",
    "                          \"B17001D_002E\",\"B17001I_002E\"),{'for': 'state:*'})\n",
    "\n",
    "# Make DF\n",
    "census_df = pd.DataFrame(census_data)\n",
    "\n",
    "# Rename to make user friendly\n",
    "census_df = census_df.rename(columns={\"B01003_001E\": \"Population\",\n",
    "                                      \"B19301_001E\": \"Per Capita Income\",\n",
    "                                      \"B17001_002E\": \"Total Poverty\",\n",
    "                                      \"B17001A_002E\": \"White Poverty\",\n",
    "                                      \"B17001B_002E\": \"Black Poverty\",\n",
    "                                      \"B17001D_002E\": \"Asian Poverty\",\n",
    "                                      \"B17001I_002E\": \"Hispanic Poverty\",\n",
    "                                      \"NAME\": \"Name\", \n",
    "                                      \"state\": \"State\"})\n",
    "\n",
    "# Rearrange DF\n",
    "census_pd = census_pd[[\"State\", \"Name\",\"Population\", \"Per Capita Income\",\n",
    "                       \"Per Capita Income\", \"Total Poverty\", \"Total Poverty\",\n",
    "                       \"White Poverty\", \"Black Poverty\", \"Asian Poverty\",\n",
    "                       \"Hispanic Poverty\"]]\n",
    "# See my data\n",
    "census_pd.head()"
   ]
  },
  {
   "cell_type": "code",
   "execution_count": null,
   "metadata": {},
   "outputs": [],
   "source": []
  },
  {
   "cell_type": "code",
   "execution_count": null,
   "metadata": {
    "scrolled": true
   },
   "outputs": [],
   "source": [
    "# Set parameters \n",
    "params = {\"key\":gkey}\n",
    "base_url = \"https://maps.googleapis.com/maps/api/geocode/json\"\n",
    "\n",
    "# Run through all rows in my DF\n",
    "for index, row in census_pd.iterrows():\n",
    "    \n",
    "    # Grab the \"Name\" column of every Index/Row\n",
    "    state_type = row['Name']\n",
    "    \n",
    "    # Add newly grabbed data and put in inside \"params\" dictionary\n",
    "    params['address'] = state_type \n",
    "    \n",
    "    # Now that paramerts are complete, read URL with json\n",
    "    response = requests.get(base_url, params = params).json()\n",
    "    \n",
    "    # Take care of any possible issues\n",
    "    try:\n",
    "        \n",
    "        # After digging through URL data, set desired info equal to \"lat\" & \"lng\"\n",
    "        lat = response['results'][0][\"geometry\"]['location']['lat']\n",
    "        lng = response['results'][0][\"geometry\"]['location']['lng'] \n",
    "        \n",
    "        # Put data into DF\n",
    "        census_pd.loc[index,'Latitude']= lat\n",
    "        census_pd.loc[index,'Longitude']= lng\n",
    "        \n",
    "    # Possible issues with code\n",
    "    except (KeyError, IndexError):\n",
    "        print(f'Not Found')\n",
    "        \n",
    "# See my Data\n",
    "census_pd.head(10)\n"
   ]
  },
  {
   "cell_type": "code",
   "execution_count": 3,
   "metadata": {
    "scrolled": true
   },
   "outputs": [
    {
     "ename": "NameError",
     "evalue": "name 'censuus_df' is not defined",
     "output_type": "error",
     "traceback": [
      "\u001b[0;31m---------------------------------------------------------------------------\u001b[0m",
      "\u001b[0;31mNameError\u001b[0m                                 Traceback (most recent call last)",
      "\u001b[0;32m<ipython-input-3-1fff105b5178>\u001b[0m in \u001b[0;36m<module>\u001b[0;34m\u001b[0m\n\u001b[0;32m----> 1\u001b[0;31m \u001b[0mhispanic_poverty\u001b[0m \u001b[0;34m=\u001b[0m \u001b[0mcensuus_df\u001b[0m\u001b[0;34m[\u001b[0m\u001b[0;34m'Hispanic Poverty'\u001b[0m\u001b[0;34m]\u001b[0m\u001b[0;34m\u001b[0m\u001b[0;34m\u001b[0m\u001b[0m\n\u001b[0m",
      "\u001b[0;31mNameError\u001b[0m: name 'censuus_df' is not defined"
     ]
    }
   ],
   "source": [
    "#hispanic_poverty = censuus_df['Hispanic Poverty']"
   ]
  },
  {
   "cell_type": "code",
   "execution_count": null,
   "metadata": {},
   "outputs": [],
   "source": []
  }
 ],
 "metadata": {
  "kernelspec": {
   "display_name": "Python 3",
   "language": "python",
   "name": "python3"
  },
  "language_info": {
   "codemirror_mode": {
    "name": "ipython",
    "version": 3
   },
   "file_extension": ".py",
   "mimetype": "text/x-python",
   "name": "python",
   "nbconvert_exporter": "python",
   "pygments_lexer": "ipython3",
   "version": "3.7.4"
  }
 },
 "nbformat": 4,
 "nbformat_minor": 2
}
